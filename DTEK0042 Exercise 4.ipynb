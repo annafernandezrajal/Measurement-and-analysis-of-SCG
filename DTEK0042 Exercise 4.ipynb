{
 "cells": [
  {
   "cell_type": "markdown",
   "metadata": {},
   "source": [
    "# DTEK0042 Exercise 4\n",
    "    Group Members:\n",
    "    1. first name last name\n",
    "    2. first name last name\n",
    "    3. first name last name"
   ]
  },
  {
   "cell_type": "markdown",
   "metadata": {},
   "source": [
    "*** Note for Google Colab Users ***\n",
    "     Because Google Colab doesn't have a button to convert your notebook to .html format here is a quick work around:\n",
    "   1. open a new google colab notebook\n",
    "   2. in the files section in google colab, upload the .ipynb file you want to be converted to .html\n",
    "   3. in your new open notebook run this command in an empty cell: !jupyter nbconvert --to html YourFileName.ipynb\n",
    "   4. after the command is finished running refresh the page\n",
    "   5. In your files section you should see your original .ipynb file that you uploaded and then a .html file of that same notebook.\n",
    "   6. download the .html file and you're good to go!"
   ]
  },
  {
   "cell_type": "markdown",
   "metadata": {},
   "source": [
    "In this exercise, you are required to analyze a SCG signal step-by-step as outlined below.  The deliverables for this exercise are a jupyter notebook and a .html file exported form the notebook. The notebook should includes your code, observations, graphs, and conclusions made upon analyzing the given SCG signals. Please provide caption and description for every figure. "
   ]
  },
  {
   "cell_type": "markdown",
   "metadata": {},
   "source": [
    "## 1- library Imports"
   ]
  },
  {
   "cell_type": "code",
   "execution_count": 2,
   "metadata": {
    "ExecuteTime": {
     "end_time": "2021-10-06T13:40:56.579164Z",
     "start_time": "2021-10-06T13:40:56.573277Z"
    }
   },
   "outputs": [],
   "source": [
    "#scipy imports\n",
    "#import scipy \n",
    "from scipy import signal,stats\n",
    "#from scipy.signal import butter, filtfilt, freqz\n",
    "\n",
    "#numpy imports\n",
    "import numpy as np\n",
    "\n",
    "#matplotlib imports\n",
    "import matplotlib.pyplot as plt\n",
    "\n",
    "#sklean imports\n",
    "from sklearn.decomposition import PCA\n",
    "from sklearn import preprocessing as prep\n",
    "#other imports\n",
    "from glob import glob"
   ]
  },
  {
   "cell_type": "markdown",
   "metadata": {},
   "source": [
    "# Data Import \n",
    "* Load the .txt files of SCG data that are stored in the folder named “dataset” into your python environment.  \n",
    "* For each .txt data file, select the 3rd column which contains the Z-axis of the SCG signals. \n",
    "* Note: the sampling frequency of this signal is 200 Hz. \n",
    "\n",
    "        Hint:  \n",
    "        * to automate the loading process you can get a list of all data file paths using glob package and subsequently load the files in a for loop. \n",
    "        \n",
    "        * dataFiles = glob.glob(path_to_dataset) to get a list of file paths of \"dataset\\xxdata.txt\"\n",
    "        \n",
    "         then load the paths one by one in a loop"
   ]
  },
  {
   "cell_type": "code",
   "execution_count": null,
   "metadata": {
    "ExecuteTime": {
     "end_time": "2021-10-06T13:40:59.732305Z",
     "start_time": "2021-10-06T13:40:59.718493Z"
    }
   },
   "outputs": [],
   "source": [
    "fs=200 #samp freq\n"
   ]
  },
  {
   "cell_type": "markdown",
   "metadata": {},
   "source": [
    "# Noisy Vs Normal Plotting\n",
    "\n",
    "* Plot the z-axis SCG signal from the file \"Noisy_data_1.txt\" and plot the z-axis SCG signal from the file \"Normal_data_1.txt\" \n",
    "* Describe your observations and how the plots differ from one another.\n"
   ]
  },
  {
   "cell_type": "code",
   "execution_count": null,
   "metadata": {},
   "outputs": [],
   "source": []
  },
  {
   "cell_type": "markdown",
   "metadata": {},
   "source": []
  },
  {
   "cell_type": "markdown",
   "metadata": {},
   "source": [
    "# Data Segmentation \n",
    "* Here is a simple function to use for data segmentation\n",
    "* Segment the Z-axis signals into 5-second segments\n",
    "* The sampling frequency used to record these signals is 200 Hz.\n",
    "* Store the segments and the accompanying labels"
   ]
  },
  {
   "cell_type": "code",
   "execution_count": 4,
   "metadata": {
    "ExecuteTime": {
     "end_time": "2021-10-06T13:53:52.644150Z",
     "start_time": "2021-10-06T13:53:52.638170Z"
    }
   },
   "outputs": [],
   "source": [
    "#code (provided)\n",
    "\n",
    "def _slicing(sig, file_label, segment_length = 1000):\n",
    "    \n",
    "    \"\"\"\n",
    "    inputs:\n",
    "    sig : input array to be segmented\n",
    "    file_label : label to be applied to segmented signal\n",
    "    segment_length : Length in samples of the segments produced from the input signal\n",
    "    \n",
    "    outputs:\n",
    "    sig_sliced : a list of segments\n",
    "    label : a list of corresponding labels for the segmented signal \n",
    "    \n",
    "    \"\"\"\n",
    "\n",
    "    sig_sliced = []\n",
    "    label = []\n",
    "    \n",
    "    # slicing \n",
    "    \n",
    "    for i in np.arange(int(len(sig)/segment_length)):\n",
    "\n",
    "        sig_sliced.append( sig[i*segment_length:(i+1)*segment_length] )\n",
    "\n",
    "        label.append(file_label)\n",
    "        \n",
    "    return (sig_sliced , label)"
   ]
  },
  {
   "cell_type": "markdown",
   "metadata": {},
   "source": [
    "# Feature Extraction Function Creation\n",
    "*  Define a function and name it “feature_extraction” in which you compute and return the features listed below\n",
    "    * *Time Domain Features*:  mean, standard deviation, interquartile-range, median, peak-to-peak range, skewness, kurtosis, and root mean square. \n",
    "    * *Frequency Domain Features*: power spectral density (using welch function of scipy)\n",
    "    \n",
    "        * For power spectral density, Calculate the total power spectral density within frequency bins of 4 Hz steps. Discard the frequencies above 40 Hz. Get the power within each bin.\n",
    "    \n",
    "        Hint:\n",
    "        \n",
    "        Reference: https://docs.scipy.org/doc/scipy/reference/stats.html for skewness, kurtosis, interquartile-range(iqr)\n",
    "        \n",
    "        Reference: https://numpy.org/doc/stable/reference/routines.statistics.html for other time domain features\n",
    "        \n",
    "        Reference: https://scikit-learn.org/stable/modules/generated/sklearn.preprocessing.scale.html for transforming to zero mean and unit variance\n",
    "\n"
   ]
  },
  {
   "cell_type": "code",
   "execution_count": null,
   "metadata": {
    "ExecuteTime": {
     "end_time": "2021-10-06T13:41:14.259449Z",
     "start_time": "2021-10-06T13:41:14.248903Z"
    }
   },
   "outputs": [],
   "source": [
    "#code\n",
    "def feature_extraction(sig, fs = 200):\n",
    "    \n",
    "    \n",
    "    \"\"\"\n",
    "    inputs:\n",
    "    sig : input array to extract features from\n",
    "    fs : sampling frequency of input array\n",
    "\n",
    "    \n",
    "    outputs:\n",
    "    feature_array: an array containing all the features extracted from the signal \n",
    "    \"\"\"\n",
    "    \n",
    "    \n",
    "    ########################################## statistical features - time domain\n",
    "\n",
    "\n",
    "    \n",
    "\n",
    "        \n",
    "    ########################################## PSD \n",
    "    \n",
    "    # transforming to zero mean and unit variance -- only do this when extracting PSD\n",
    "    # Hint: transfromed_sig = function_for_scale(sig)\n",
    "    \n",
    "    frequencies , PSD = signal.welch()\n",
    "    \n",
    "    freqs_arr = np.arange(0,41,4)\n",
    "    \n",
    "    PSD_binned_sum = [] \n",
    "    \n",
    "    for i in range(freqs_arr.shape[0]-1): \n",
    "        \n",
    "        PSD_binned_sum.append (np.sum(PSD[np.where( (frequencies >= freqs_arr[i] ) & \n",
    "                                                   ( frequencies < freqs_arr[i+1] ) )]) )\n",
    "        \n",
    "    \n",
    "    # return the feature array\n",
    "    \n"
   ]
  },
  {
   "cell_type": "markdown",
   "metadata": {},
   "source": [
    "# Feature Extraction Application\n",
    "\n",
    "* You must first segment your signals and then extract features from each segment. You could do it in the following way:\n",
    "\n",
    "\n",
    "\n",
    "* Call the _slicing function to section all the z-axis data into 5-second segments\n",
    "        Hint: Load each file in \"dataFiles\" with for-loop\n",
    "* Use the feature extraction function you created and extract features from every segment that you have obtained.\n",
    "* Store the labels and the features you extracted from each segment to numpy arrays. \n",
    "        Hint: Think of an easy way to extract the label \"noisy\" or \"normal\" from each file name\n",
    "        str.split() could be used somehow in this case"
   ]
  },
  {
   "cell_type": "code",
   "execution_count": null,
   "metadata": {
    "ExecuteTime": {
     "end_time": "2021-10-06T13:58:46.299478Z",
     "start_time": "2021-10-06T13:58:44.855565Z"
    },
    "scrolled": true
   },
   "outputs": [],
   "source": []
  },
  {
   "cell_type": "markdown",
   "metadata": {},
   "source": [
    "# Standardize Features\n",
    "Hint:\n",
    "\n",
    "    Use sklearn.preprocessing.scale() to standardize the features\n",
    "    Reference: https://scikit-learn.org/stable/modules/generated/sklearn.preprocessing.scale.html"
   ]
  },
  {
   "cell_type": "code",
   "execution_count": null,
   "metadata": {
    "ExecuteTime": {
     "end_time": "2021-10-06T13:59:01.746425Z",
     "start_time": "2021-10-06T13:59:01.740041Z"
    }
   },
   "outputs": [],
   "source": []
  },
  {
   "cell_type": "markdown",
   "metadata": {},
   "source": [
    "# Principal Component Analysis\n",
    "* Principal Component Analysis (PCA) is used to reduce the dimensionality of a data set consisting of many variables correlated with each other. This can then be used to visualize the data in a more practical way. \n",
    "* Compute the first and 2nd principal components\n",
    "* Plot the two components on a scatter plot with the coloring done by label\n",
    "* Are these features useful to seperate the two types of signals (noisy vs normal)?\n",
    "* Describe your observations.\n",
    "    \n",
    "        Hint:\n",
    "        my_pca=PCA(n_components=2)\n",
    "        pca_out = my_pca.fit_transform(input)"
   ]
  },
  {
   "cell_type": "code",
   "execution_count": null,
   "metadata": {
    "ExecuteTime": {
     "end_time": "2021-10-06T14:03:20.794904Z",
     "start_time": "2021-10-06T14:03:20.427399Z"
    }
   },
   "outputs": [],
   "source": []
  },
  {
   "cell_type": "markdown",
   "metadata": {},
   "source": [
    "# Observations "
   ]
  },
  {
   "cell_type": "markdown",
   "metadata": {},
   "source": []
  }
 ],
 "metadata": {
  "kernelspec": {
   "display_name": "Python 3 (ipykernel)",
   "language": "python",
   "name": "python3"
  },
  "language_info": {
   "codemirror_mode": {
    "name": "ipython",
    "version": 3
   },
   "file_extension": ".py",
   "mimetype": "text/x-python",
   "name": "python",
   "nbconvert_exporter": "python",
   "pygments_lexer": "ipython3",
   "version": "3.7.11"
  },
  "toc": {
   "base_numbering": 1,
   "nav_menu": {},
   "number_sections": true,
   "sideBar": true,
   "skip_h1_title": false,
   "title_cell": "Table of Contents",
   "title_sidebar": "Contents",
   "toc_cell": false,
   "toc_position": {},
   "toc_section_display": true,
   "toc_window_display": false
  },
  "varInspector": {
   "cols": {
    "lenName": 16,
    "lenType": 16,
    "lenVar": 40
   },
   "kernels_config": {
    "python": {
     "delete_cmd_postfix": "",
     "delete_cmd_prefix": "del ",
     "library": "var_list.py",
     "varRefreshCmd": "print(var_dic_list())"
    },
    "r": {
     "delete_cmd_postfix": ") ",
     "delete_cmd_prefix": "rm(",
     "library": "var_list.r",
     "varRefreshCmd": "cat(var_dic_list()) "
    }
   },
   "types_to_exclude": [
    "module",
    "function",
    "builtin_function_or_method",
    "instance",
    "_Feature"
   ],
   "window_display": false
  }
 },
 "nbformat": 4,
 "nbformat_minor": 2
}
